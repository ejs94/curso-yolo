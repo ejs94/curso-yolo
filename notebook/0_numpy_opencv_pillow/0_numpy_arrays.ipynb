{
 "cells": [
  {
   "cell_type": "markdown",
   "metadata": {
    "tags": []
   },
   "source": [
    "# **Numpy**"
   ]
  },
  {
   "cell_type": "markdown",
   "metadata": {},
   "source": [
    "Segundo a [documentação oficial](https://numpy.org/doc/), NumPy é um pacote para computação científica em Python.  "
   ]
  },
  {
   "cell_type": "markdown",
   "metadata": {
    "jp-MarkdownHeadingCollapsed": true,
    "tags": []
   },
   "source": [
    "---\n",
    "## **Instalação**\n"
   ]
  },
  {
   "cell_type": "markdown",
   "metadata": {},
   "source": [
    "A instalação do pocote pode ser feita usando um dos comandos abaixo: \n",
    "\n",
    "- `conda install numpy`, pode-se utilizar o [Conda](https://docs.conda.io/en/latest/) \n",
    "- `pip install numpy`, pode-se tambem ser utilizado o [Python Package Index (PyPI)](https://pypi.org/)"
   ]
  },
  {
   "cell_type": "markdown",
   "metadata": {
    "jp-MarkdownHeadingCollapsed": true,
    "tags": []
   },
   "source": [
    "---\n",
    "## **Importando o NumPy**"
   ]
  },
  {
   "cell_type": "markdown",
   "metadata": {},
   "source": [
    "```python\n",
    "import numpy as np\n",
    "```"
   ]
  },
  {
   "cell_type": "code",
   "execution_count": 1,
   "metadata": {},
   "outputs": [],
   "source": [
    "# ---\n",
    "# seu código vai aqui\n",
    "# ---\n",
    "import numpy as np"
   ]
  },
  {
   "cell_type": "markdown",
   "metadata": {
    "jp-MarkdownHeadingCollapsed": true,
    "tags": []
   },
   "source": [
    "---\n",
    "## **Numpy Arrays**"
   ]
  },
  {
   "cell_type": "markdown",
   "metadata": {},
   "source": [
    "> Para criar um numpy array podemos declarar uma lista e utilizá-la como parâmetro para a função array()."
   ]
  },
  {
   "cell_type": "markdown",
   "metadata": {},
   "source": [
    "```python\n",
    "list1 = [0,1,2,3]\n",
    "```"
   ]
  },
  {
   "cell_type": "code",
   "execution_count": 2,
   "metadata": {},
   "outputs": [],
   "source": [
    "# ---\n",
    "# seu código vai aqui\n",
    "# ---"
   ]
  },
  {
   "cell_type": "markdown",
   "metadata": {},
   "source": [
    "```python\n",
    "arr = np.array(list1)\n",
    "```"
   ]
  },
  {
   "cell_type": "code",
   "execution_count": 3,
   "metadata": {},
   "outputs": [],
   "source": [
    "# ---\n",
    "# seu código vai aqui\n",
    "# ---"
   ]
  },
  {
   "cell_type": "markdown",
   "metadata": {},
   "source": [
    "💡 **Note que podemos criar uma matriz a partir de um cojunto de listas ou de arrays:**"
   ]
  },
  {
   "cell_type": "markdown",
   "metadata": {},
   "source": [
    "```python\n",
    "list1 = [0,1,2,3]\n",
    "list2 = [4,5,6,7]\n",
    "list3 = [8,9,10,11]\n",
    "```"
   ]
  },
  {
   "cell_type": "code",
   "execution_count": 4,
   "metadata": {},
   "outputs": [],
   "source": [
    "# ---\n",
    "# seu código vai aqui\n",
    "# ---"
   ]
  },
  {
   "cell_type": "markdown",
   "metadata": {},
   "source": [
    "```python\n",
    "mat = np.array([list1,list2,list3])\n",
    "```"
   ]
  },
  {
   "cell_type": "code",
   "execution_count": 5,
   "metadata": {},
   "outputs": [],
   "source": [
    "# ---\n",
    "# seu código vai aqui\n",
    "# ---"
   ]
  },
  {
   "cell_type": "markdown",
   "metadata": {
    "jp-MarkdownHeadingCollapsed": true,
    "tags": []
   },
   "source": [
    "---\n",
    "## **Inicializando valores dos arrays**"
   ]
  },
  {
   "cell_type": "markdown",
   "metadata": {},
   "source": [
    "Funções para criar e inicializar arrays: \n",
    "- `.arange()`\n",
    "- `.zeros()`\n",
    "- `.ones()`\n",
    "- `.linspace()` \n",
    "- `.eye()`"
   ]
  },
  {
   "cell_type": "markdown",
   "metadata": {
    "tags": []
   },
   "source": [
    "---\n",
    "### 👉 **.arange()**"
   ]
  },
  {
   "cell_type": "markdown",
   "metadata": {},
   "source": [
    "> Cria uma sequência de números entre um valor inicial, um valor final. Note que os valores intermediários podem ter o valor de incremento personalizado."
   ]
  },
  {
   "cell_type": "markdown",
   "metadata": {},
   "source": [
    "```python\n",
    "# Ex 1.:\n",
    "arr = [0, 1, ..., 10]\n",
    "\n",
    "# Ex 2.:\n",
    "arr = [0, 2, ..., 24]\n",
    "```"
   ]
  },
  {
   "cell_type": "markdown",
   "metadata": {},
   "source": [
    "Experimente criar um vetor com mais de 10 itens."
   ]
  },
  {
   "cell_type": "code",
   "execution_count": 6,
   "metadata": {},
   "outputs": [],
   "source": [
    "# ---\n",
    "# seu código vai aqui\n",
    "# ---"
   ]
  },
  {
   "cell_type": "markdown",
   "metadata": {},
   "source": [
    "**Como pode ser visto na documentação, a sintaxe esperada é:**  \n",
    "```python\n",
    "arr = np.arange(valor_inicial, valor_final, valor_incrementado)\n",
    "```\n",
    "Logo, crie um array com 10 elementos:"
   ]
  },
  {
   "cell_type": "code",
   "execution_count": 7,
   "metadata": {},
   "outputs": [],
   "source": [
    "# ---\n",
    "# seu código vai aqui\n",
    "# ---"
   ]
  },
  {
   "cell_type": "markdown",
   "metadata": {},
   "source": [
    "💡 **Note que o primeiro valor \"0\" está incluído no array e que o último valor \"10\" não é incluído.**"
   ]
  },
  {
   "cell_type": "markdown",
   "metadata": {},
   "source": [
    "Crie um `arr` com os valores: `[0, 2, ..., 64]`"
   ]
  },
  {
   "cell_type": "code",
   "execution_count": 8,
   "metadata": {},
   "outputs": [],
   "source": [
    "# ---\n",
    "# seu código vai aqui\n",
    "# ---"
   ]
  },
  {
   "cell_type": "markdown",
   "metadata": {
    "tags": []
   },
   "source": [
    "---\n",
    "### 👉 **.zeros() e .ones()**"
   ]
  },
  {
   "cell_type": "markdown",
   "metadata": {},
   "source": [
    "> Tais funções criam arrays contendo apenas valores iguais a 0 (zero) ou 1 (um), respectivamente.\n",
    "\n",
    "**As sintaxes esperadas são:**\n",
    "- `arr_zeros = np.zeros((dim1, dim2, dim3, ...))`  \n",
    "- `arr_ones = np.ones((dim1, dim2, dim3, ...))`"
   ]
  },
  {
   "cell_type": "markdown",
   "metadata": {},
   "source": [
    "Crie um array com três elementos 0:\n",
    "\n",
    "```python\n",
    "np.zeros(num_elementos)\n",
    "```"
   ]
  },
  {
   "cell_type": "code",
   "execution_count": 9,
   "metadata": {},
   "outputs": [],
   "source": [
    "# ---\n",
    "# seu código vai aqui\n",
    "# ---"
   ]
  },
  {
   "cell_type": "markdown",
   "metadata": {},
   "source": [
    "Crie uma matriz 5x5 preenchida com elementos 0:\n",
    "```python\n",
    "np.zeros((num_linhas, num_colunas))\n",
    "```"
   ]
  },
  {
   "cell_type": "code",
   "execution_count": 10,
   "metadata": {},
   "outputs": [],
   "source": [
    "# ---\n",
    "# seu código vai aqui\n",
    "# ---"
   ]
  },
  {
   "cell_type": "markdown",
   "metadata": {},
   "source": [
    "Crie um array com três elementos 1:\n",
    "```python\n",
    "np.ones(num_elementos)\n",
    "```"
   ]
  },
  {
   "cell_type": "code",
   "execution_count": 11,
   "metadata": {},
   "outputs": [],
   "source": [
    "# ---\n",
    "# seu código vai aqui\n",
    "# ---"
   ]
  },
  {
   "cell_type": "markdown",
   "metadata": {},
   "source": [
    "Crie uma matriz 3x3 preenchida com elementos 1:\n",
    "```python\n",
    "np.ones((num_linhas, num_colunas))\n",
    "```"
   ]
  },
  {
   "cell_type": "code",
   "execution_count": 12,
   "metadata": {},
   "outputs": [],
   "source": [
    "# ---\n",
    "# seu código vai aqui\n",
    "# ---"
   ]
  },
  {
   "cell_type": "markdown",
   "metadata": {
    "tags": []
   },
   "source": [
    "---\n",
    "### 👉 **.linspace()**"
   ]
  },
  {
   "cell_type": "markdown",
   "metadata": {},
   "source": [
    "> Cria valores igualmente espaçados em um determinado intervalo.\n",
    "\n",
    "**A sintaxe esperada é:**\n",
    "```python\n",
    "np.linspace(inicio, fim, espaços)\n",
    "```"
   ]
  },
  {
   "cell_type": "markdown",
   "metadata": {},
   "source": [
    "Crie uma sequencia de 3 números entre 0 e 10, igualmente espaçados entre si:\n",
    "\n",
    "```python\n",
    "arr = np.linspace(0,10,3)\n",
    "```"
   ]
  },
  {
   "cell_type": "code",
   "execution_count": 13,
   "metadata": {},
   "outputs": [],
   "source": [
    "# ---\n",
    "# seu código vai aqui\n",
    "# ---"
   ]
  },
  {
   "cell_type": "markdown",
   "metadata": {},
   "source": [
    "Criar uma sequencia de 15 números entre 0 e 10, igualmente espaçados entre si:\n",
    "```python\n",
    "arr = np.linspace(0,10,_)\n",
    "```"
   ]
  },
  {
   "cell_type": "code",
   "execution_count": 14,
   "metadata": {},
   "outputs": [],
   "source": [
    "# ---\n",
    "# seu código vai aqui\n",
    "# ---"
   ]
  },
  {
   "cell_type": "markdown",
   "metadata": {
    "tags": []
   },
   "source": [
    "---\n",
    "### 👉 **.eye()**"
   ]
  },
  {
   "cell_type": "markdown",
   "metadata": {},
   "source": [
    "> Cria uma matriz identidade, ou seja, uma matriz cuja diagonal principal tem valores 1, e todos os outros valores são 0.\n",
    "\n",
    "**A sintaxe esperada é:**   \n",
    "\n",
    "```python\n",
    "np.eye(dimensão)\n",
    "```"
   ]
  },
  {
   "cell_type": "markdown",
   "metadata": {},
   "source": [
    "Crie uma matriz identidade de dimensões 4x4:"
   ]
  },
  {
   "cell_type": "code",
   "execution_count": 15,
   "metadata": {},
   "outputs": [],
   "source": [
    "# ---\n",
    "# seu código vai aqui\n",
    "# ---"
   ]
  },
  {
   "cell_type": "markdown",
   "metadata": {},
   "source": [
    "---\n",
    "### 👉 Gerando números aleatórios com .random"
   ]
  },
  {
   "cell_type": "markdown",
   "metadata": {},
   "source": [
    "- `random.seed(a)`:\n",
    "  - Inicializa o gerador de números aleatórios.\n",
    "  - Garante reprodutibilidade ao definir um estado inicial.\n",
    "\n",
    "- `random.randint(valor_minimo, valor_maximo, tamanho)`:\n",
    "  - Gera um número inteiro aleatório entre 0 e 10 (inclusive).\n",
    "\n",
    "- `random.rand(tamanho)`:\n",
    "  - Gera um número decimal aleatório entre 0 e 1 (distribuição uniforme).\n",
    "\n",
    "- `random.randn(tamanho)`:\n",
    "  - Gera um número decimal aleatório seguindo uma distribuição normal (média 0, desvio padrão 1)."
   ]
  },
  {
   "cell_type": "code",
   "execution_count": 16,
   "metadata": {},
   "outputs": [
    {
     "data": {
      "text/plain": [
       "array([1, 6, 7, 9, 8, 4, 8, 5, 0, 5])"
      ]
     },
     "execution_count": 16,
     "metadata": {},
     "output_type": "execute_result"
    }
   ],
   "source": [
    "np.random.seed(101)\n",
    "np.random.randint(0, 10, 10)"
   ]
  },
  {
   "cell_type": "code",
   "execution_count": 17,
   "metadata": {},
   "outputs": [
    {
     "data": {
      "text/plain": [
       "array([0.51639863, 0.57066759, 0.02847423, 0.17152166, 0.68527698,\n",
       "       0.83389686, 0.30696622, 0.89361308, 0.72154386, 0.18993895])"
      ]
     },
     "execution_count": 17,
     "metadata": {},
     "output_type": "execute_result"
    }
   ],
   "source": [
    "np.random.seed(101)\n",
    "np.random.rand(10)"
   ]
  },
  {
   "cell_type": "code",
   "execution_count": 18,
   "metadata": {},
   "outputs": [
    {
     "data": {
      "text/plain": [
       "array([ 2.70684984,  0.62813271,  0.90796945,  0.50382575,  0.65111795,\n",
       "       -0.31931804, -0.84807698,  0.60596535, -2.01816824,  0.74012206])"
      ]
     },
     "execution_count": 18,
     "metadata": {},
     "output_type": "execute_result"
    }
   ],
   "source": [
    "np.random.seed(101)\n",
    "np.random.randn(10)"
   ]
  },
  {
   "cell_type": "markdown",
   "metadata": {
    "tags": []
   },
   "source": [
    "---\n",
    "## **Atributos e métodos de arrays**"
   ]
  },
  {
   "cell_type": "markdown",
   "metadata": {},
   "source": [
    "**São funções e atributos intrínsicos dos arrays, considerados dados internos. Vejamos alguns exemplos a seguir.**"
   ]
  },
  {
   "cell_type": "markdown",
   "metadata": {
    "jp-MarkdownHeadingCollapsed": true,
    "tags": []
   },
   "source": [
    "---\n",
    "### 👉 **.reshape()**"
   ]
  },
  {
   "cell_type": "markdown",
   "metadata": {},
   "source": [
    "> Altera as dimensões de um array, desde que as dimensões inicias e finais sejam compatíveis.\n",
    "\n",
    "**A sintaxe esperada é:**   \n",
    "\n",
    "```python\n",
    "arr.reshape((dim1, dim2, dim3, ...))\n",
    "```"
   ]
  },
  {
   "cell_type": "markdown",
   "metadata": {},
   "source": [
    "Crie um array de 25 elementos:\n",
    "\n",
    "```python\n",
    "arr = np.arange(_)\n",
    "```"
   ]
  },
  {
   "cell_type": "code",
   "execution_count": 19,
   "metadata": {},
   "outputs": [],
   "source": [
    "# ---\n",
    "# seu código vai aqui\n",
    "# ---"
   ]
  },
  {
   "cell_type": "markdown",
   "metadata": {},
   "source": [
    "Redimensione o array para um matriz de dimensoes 5x5:\n",
    "```python\n",
    "arr.reshape((_,_))\n",
    "```"
   ]
  },
  {
   "cell_type": "code",
   "execution_count": 20,
   "metadata": {},
   "outputs": [],
   "source": [
    "# ---\n",
    "# seu código vai aqui\n",
    "# ---"
   ]
  },
  {
   "cell_type": "markdown",
   "metadata": {},
   "source": [
    "💡 Note, que algumas funções podem ser empilhadas em uma mesma linha como:\n",
    "> `arr = np.arange(_).reshape((_,_))`"
   ]
  },
  {
   "cell_type": "markdown",
   "metadata": {
    "jp-MarkdownHeadingCollapsed": true,
    "tags": []
   },
   "source": [
    "---\n",
    "### 👉 **.max()**, **.min()**, **.argmax()** e **.argmin()**"
   ]
  },
  {
   "cell_type": "markdown",
   "metadata": {},
   "source": [
    "> Retornam os valores máximo, mínimo, o índice do valor máximo e índice do valor mínimo de um array, respectivamete."
   ]
  },
  {
   "cell_type": "markdown",
   "metadata": {},
   "source": [
    "Crie um array com valores aleatórios. Utilize o seed com valor 101.\n",
    "\n",
    "```python\n",
    "arr = np.random.rand(10)\n",
    "```"
   ]
  },
  {
   "cell_type": "code",
   "execution_count": 21,
   "metadata": {},
   "outputs": [],
   "source": [
    "# ---\n",
    "# seu código vai aqui\n",
    "# ---"
   ]
  },
  {
   "cell_type": "markdown",
   "metadata": {},
   "source": [
    "Informe o maior valor desse array:\n",
    "```python\n",
    "arr.max()\n",
    "```"
   ]
  },
  {
   "cell_type": "code",
   "execution_count": 22,
   "metadata": {},
   "outputs": [],
   "source": [
    "# ---\n",
    "# seu código vai aqui\n",
    "# ---"
   ]
  },
  {
   "cell_type": "markdown",
   "metadata": {},
   "source": [
    "Informe o indice do elemento de maior valor do array, ou seja, a posição que ele ocupa no array:\n",
    "```python\n",
    "arr.argmax()\n",
    "```"
   ]
  },
  {
   "cell_type": "code",
   "execution_count": 23,
   "metadata": {},
   "outputs": [],
   "source": [
    "# ---\n",
    "# seu código vai aqui\n",
    "# ---"
   ]
  },
  {
   "cell_type": "markdown",
   "metadata": {},
   "source": [
    "Informe o menor valor desse array:\n",
    "```python\n",
    "arr.min()\n",
    "```"
   ]
  },
  {
   "cell_type": "code",
   "execution_count": 24,
   "metadata": {},
   "outputs": [],
   "source": [
    "# ---\n",
    "# seu código vai aqui\n",
    "# ---"
   ]
  },
  {
   "cell_type": "markdown",
   "metadata": {},
   "source": [
    "Informa o indice do elemento de menor valor do array, ou seja, a posição que ele ocupa no array:\n",
    "```python\n",
    "arr.argmin()\n",
    "```"
   ]
  },
  {
   "cell_type": "code",
   "execution_count": 25,
   "metadata": {},
   "outputs": [],
   "source": [
    "# ---\n",
    "# seu código vai aqui\n",
    "# ---"
   ]
  },
  {
   "cell_type": "markdown",
   "metadata": {
    "jp-MarkdownHeadingCollapsed": true,
    "tags": []
   },
   "source": [
    "---\n",
    "### 👉 **shape**"
   ]
  },
  {
   "cell_type": "markdown",
   "metadata": {},
   "source": [
    "> Uma tupla que armazena as dimensões do array."
   ]
  },
  {
   "cell_type": "markdown",
   "metadata": {},
   "source": [
    "Gerando uma matriz aleatória:"
   ]
  },
  {
   "cell_type": "code",
   "execution_count": 26,
   "metadata": {},
   "outputs": [
    {
     "data": {
      "text/plain": [
       "array([[0.78560176, 0.96548322, 0.23235366, 0.08356143],\n",
       "       [0.60354842, 0.72899276, 0.27623883, 0.68530633]])"
      ]
     },
     "metadata": {},
     "output_type": "display_data"
    }
   ],
   "source": [
    "m = np.random.randint(1, 10)\n",
    "n = np.random.randint(1, 10)\n",
    "\n",
    "mat = np.random.rand(m * n).reshape((m, n))\n",
    "display(mat)"
   ]
  },
  {
   "cell_type": "markdown",
   "metadata": {},
   "source": [
    "Visualize o formato dessa matriz em relação o numero de linhas (m) e colunas (n).\n",
    "\n",
    "```python\n",
    "mat.shape\n",
    "```"
   ]
  },
  {
   "cell_type": "code",
   "execution_count": 27,
   "metadata": {},
   "outputs": [
    {
     "data": {
      "text/plain": [
       "(2, 4)"
      ]
     },
     "execution_count": 27,
     "metadata": {},
     "output_type": "execute_result"
    }
   ],
   "source": [
    "# ---\n",
    "# seu código vai aqui\n",
    "# ---\n",
    "mat.shape"
   ]
  },
  {
   "cell_type": "markdown",
   "metadata": {
    "tags": []
   },
   "source": [
    "---\n",
    "### 👉 **dtype()**"
   ]
  },
  {
   "cell_type": "markdown",
   "metadata": {},
   "source": [
    "> Informa qual é o tipo de variável dos elementos do array."
   ]
  },
  {
   "cell_type": "markdown",
   "metadata": {},
   "source": [
    "Gerando uma array aleatória:"
   ]
  },
  {
   "cell_type": "code",
   "execution_count": 28,
   "metadata": {},
   "outputs": [],
   "source": [
    "arr = np.random.rand(25)"
   ]
  },
  {
   "cell_type": "markdown",
   "metadata": {},
   "source": [
    "Consultado o tipo de dado que é constituido esse array.\n",
    "\n",
    "```python\n",
    "arr.dtype\n",
    "```"
   ]
  },
  {
   "cell_type": "code",
   "execution_count": 29,
   "metadata": {},
   "outputs": [],
   "source": [
    "# ---\n",
    "# seu código vai aqui\n",
    "# ---"
   ]
  },
  {
   "cell_type": "markdown",
   "metadata": {
    "tags": []
   },
   "source": [
    "---\n",
    "## **Seleção e indexação de numpy arrays**"
   ]
  },
  {
   "cell_type": "markdown",
   "metadata": {
    "tags": []
   },
   "source": [
    "---\n",
    "### 👉 **Seleção por chaves**"
   ]
  },
  {
   "cell_type": "markdown",
   "metadata": {},
   "source": [
    "> Como selecionar um ou mais elementos de um array."
   ]
  },
  {
   "cell_type": "markdown",
   "metadata": {},
   "source": [
    "Gerando uma array aleatória:"
   ]
  },
  {
   "cell_type": "code",
   "execution_count": 30,
   "metadata": {},
   "outputs": [
    {
     "data": {
      "text/plain": [
       "array([0.51639863, 0.57066759, 0.02847423, 0.17152166, 0.68527698,\n",
       "       0.83389686, 0.30696622, 0.89361308, 0.72154386, 0.18993895,\n",
       "       0.55422759, 0.35213195, 0.1818924 , 0.78560176, 0.96548322,\n",
       "       0.23235366, 0.08356143, 0.60354842, 0.72899276, 0.27623883,\n",
       "       0.68530633, 0.51786747, 0.04848454, 0.13786924, 0.18696743])"
      ]
     },
     "metadata": {},
     "output_type": "display_data"
    }
   ],
   "source": [
    "np.random.seed(101)\n",
    "arr = np.random.rand(25)\n",
    "display(arr)"
   ]
  },
  {
   "cell_type": "markdown",
   "metadata": {},
   "source": [
    "Como mostrar o elemento da 5ª posição:\n",
    "\n",
    "```python\n",
    "arr[5]\n",
    "```"
   ]
  },
  {
   "cell_type": "code",
   "execution_count": 31,
   "metadata": {},
   "outputs": [],
   "source": [
    "# ---\n",
    "# seu código vai aqui\n",
    "# ---"
   ]
  },
  {
   "cell_type": "markdown",
   "metadata": {},
   "source": [
    "- mostra os elementos do intervalo desde até o segundo elemento até o quinto elemento\n",
    "- note que o segundo elemento é incluído e o quinto elemento não é incluído"
   ]
  },
  {
   "cell_type": "markdown",
   "metadata": {},
   "source": [
    "Mostre os elementos de um intervalo que comece no segundo elemento e termine no quinto elemento desse array.\n",
    "\n",
    "```python\n",
    "arr[2:5]\n",
    "```"
   ]
  },
  {
   "cell_type": "code",
   "execution_count": 32,
   "metadata": {},
   "outputs": [],
   "source": [
    "# ---\n",
    "# seu código vai aqui\n",
    "# ---"
   ]
  },
  {
   "cell_type": "markdown",
   "metadata": {},
   "source": [
    "💡 Note que uns dos elementos estão ausentes, identifique e corrige o valor do intervalo do slice."
   ]
  },
  {
   "cell_type": "code",
   "execution_count": 33,
   "metadata": {},
   "outputs": [],
   "source": [
    "# ---\n",
    "# seu código vai aqui\n",
    "# ---"
   ]
  },
  {
   "cell_type": "markdown",
   "metadata": {
    "tags": []
   },
   "source": [
    "---\n",
    "### 👉 ***Broadcasting***"
   ]
  },
  {
   "cell_type": "markdown",
   "metadata": {},
   "source": [
    "> Realiza operações matemáticas para todos os elemento de um array."
   ]
  },
  {
   "cell_type": "markdown",
   "metadata": {},
   "source": [
    "Gerando uma array aleatória:"
   ]
  },
  {
   "cell_type": "code",
   "execution_count": 34,
   "metadata": {},
   "outputs": [
    {
     "data": {
      "text/plain": [
       "array([1, 6, 7, 9, 8, 4, 8, 5, 0, 5])"
      ]
     },
     "metadata": {},
     "output_type": "display_data"
    }
   ],
   "source": [
    "np.random.seed(101)\n",
    "arr = np.random.randint(0, 10, 10)\n",
    "display(arr)"
   ]
  },
  {
   "cell_type": "markdown",
   "metadata": {},
   "source": [
    "Some uma constante a todos os elementos desse array:\n",
    "\n",
    "```python\n",
    "arr + 2\n",
    "```"
   ]
  },
  {
   "cell_type": "code",
   "execution_count": 35,
   "metadata": {},
   "outputs": [],
   "source": [
    "# ---\n",
    "# seu código vai aqui\n",
    "# ---"
   ]
  },
  {
   "cell_type": "markdown",
   "metadata": {},
   "source": [
    "Multiplique uma constante a todos os elementos desse array:\n",
    "\n",
    "```python\n",
    "arr * 2\n",
    "```"
   ]
  },
  {
   "cell_type": "code",
   "execution_count": 36,
   "metadata": {},
   "outputs": [],
   "source": [
    "# ---\n",
    "# seu código vai aqui\n",
    "# ---"
   ]
  },
  {
   "cell_type": "markdown",
   "metadata": {},
   "source": [
    "Subtraia uma constante a todos os elementos desse array:\n",
    "\n",
    "```python\n",
    "arr - 5\n",
    "```"
   ]
  },
  {
   "cell_type": "code",
   "execution_count": 37,
   "metadata": {},
   "outputs": [],
   "source": [
    "# ---\n",
    "# seu código vai aqui\n",
    "# ---"
   ]
  },
  {
   "cell_type": "markdown",
   "metadata": {},
   "source": [
    "Divide uma constante a todos os elementos desse array:\n",
    "\n",
    "```python\n",
    "arr / 5\n",
    "```\n",
    "💡 Note que a divisão por zero gera um aviso e seu resultado é um NaN."
   ]
  },
  {
   "cell_type": "code",
   "execution_count": 38,
   "metadata": {},
   "outputs": [],
   "source": [
    "# ---\n",
    "# seu código vai aqui\n",
    "# ---"
   ]
  },
  {
   "cell_type": "markdown",
   "metadata": {},
   "source": [
    "Eleve cada elemento desse array a uma constante.\n",
    "\n",
    "```python\n",
    "arr ** 2\n",
    "```"
   ]
  },
  {
   "cell_type": "code",
   "execution_count": 39,
   "metadata": {},
   "outputs": [],
   "source": [
    "# ---\n",
    "# seu código vai aqui\n",
    "# ---"
   ]
  },
  {
   "cell_type": "markdown",
   "metadata": {},
   "source": [
    "---\n",
    "# 🥳🥳🥳 Bom trabalho!"
   ]
  }
 ],
 "metadata": {
  "kernelspec": {
   "display_name": "Python 3 (ipykernel)",
   "language": "python",
   "name": "python3"
  },
  "language_info": {
   "codemirror_mode": {
    "name": "ipython",
    "version": 3
   },
   "file_extension": ".py",
   "mimetype": "text/x-python",
   "name": "python",
   "nbconvert_exporter": "python",
   "pygments_lexer": "ipython3",
   "version": "3.10.14"
  }
 },
 "nbformat": 4,
 "nbformat_minor": 4
}
